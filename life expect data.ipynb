{
  "metadata": {
    "kernelspec": {
      "name": "python",
      "display_name": "Python (Pyodide)",
      "language": "python"
    },
    "language_info": {
      "codemirror_mode": {
        "name": "python",
        "version": 3
      },
      "file_extension": ".py",
      "mimetype": "text/x-python",
      "name": "python",
      "nbconvert_exporter": "python",
      "pygments_lexer": "ipython3",
      "version": "3.8"
    }
  },
  "nbformat_minor": 5,
  "nbformat": 4,
  "cells": [
    {
      "id": "a01a3fa7-c8a8-43d2-9d6c-2a26b7f8b1a8",
      "cell_type": "code",
      "source": "import pandas as pd\ndata=pd.read_csv(\"Life Expectancy Data.csv\")\ndata.head(10)",
      "metadata": {
        "trusted": true
      },
      "outputs": [
        {
          "execution_count": 4,
          "output_type": "execute_result",
          "data": {
            "text/plain": "       Country  Year      Status  Life expectancy   Adult Mortality  \\\n0  Afghanistan  2015  Developing              65.0            263.0   \n1  Afghanistan  2014  Developing              59.9            271.0   \n2  Afghanistan  2013  Developing              59.9            268.0   \n3  Afghanistan  2012  Developing              59.5            272.0   \n4  Afghanistan  2011  Developing              59.2            275.0   \n5  Afghanistan  2010  Developing              58.8            279.0   \n6  Afghanistan  2009  Developing              58.6            281.0   \n7  Afghanistan  2008  Developing              58.1            287.0   \n8  Afghanistan  2007  Developing              57.5            295.0   \n9  Afghanistan  2006  Developing              57.3            295.0   \n\n   infant deaths  Alcohol  percentage expenditure  Hepatitis B  Measles   ...  \\\n0             62     0.01               71.279624         65.0      1154  ...   \n1             64     0.01               73.523582         62.0       492  ...   \n2             66     0.01               73.219243         64.0       430  ...   \n3             69     0.01               78.184215         67.0      2787  ...   \n4             71     0.01                7.097109         68.0      3013  ...   \n5             74     0.01               79.679367         66.0      1989  ...   \n6             77     0.01               56.762217         63.0      2861  ...   \n7             80     0.03               25.873925         64.0      1599  ...   \n8             82     0.02               10.910156         63.0      1141  ...   \n9             84     0.03               17.171518         64.0      1990  ...   \n\n   Polio  Total expenditure  Diphtheria    HIV/AIDS         GDP  Population  \\\n0    6.0               8.16         65.0        0.1  584.259210  33736494.0   \n1   58.0               8.18         62.0        0.1  612.696514    327582.0   \n2   62.0               8.13         64.0        0.1  631.744976  31731688.0   \n3   67.0               8.52         67.0        0.1  669.959000   3696958.0   \n4   68.0               7.87         68.0        0.1   63.537231   2978599.0   \n5   66.0               9.20         66.0        0.1  553.328940   2883167.0   \n6   63.0               9.42         63.0        0.1  445.893298    284331.0   \n7   64.0               8.33         64.0        0.1  373.361116   2729431.0   \n8   63.0               6.73         63.0        0.1  369.835796  26616792.0   \n9   58.0               7.43         58.0        0.1  272.563770   2589345.0   \n\n    thinness  1-19 years   thinness 5-9 years  \\\n0                   17.2                 17.3   \n1                   17.5                 17.5   \n2                   17.7                 17.7   \n3                   17.9                 18.0   \n4                   18.2                 18.2   \n5                   18.4                 18.4   \n6                   18.6                 18.7   \n7                   18.8                 18.9   \n8                   19.0                 19.1   \n9                   19.2                 19.3   \n\n   Income composition of resources  Schooling  \n0                            0.479       10.1  \n1                            0.476       10.0  \n2                            0.470        9.9  \n3                            0.463        9.8  \n4                            0.454        9.5  \n5                            0.448        9.2  \n6                            0.434        8.9  \n7                            0.433        8.7  \n8                            0.415        8.4  \n9                            0.405        8.1  \n\n[10 rows x 22 columns]",
            "text/html": "<div>\n<style scoped>\n    .dataframe tbody tr th:only-of-type {\n        vertical-align: middle;\n    }\n\n    .dataframe tbody tr th {\n        vertical-align: top;\n    }\n\n    .dataframe thead th {\n        text-align: right;\n    }\n</style>\n<table border=\"1\" class=\"dataframe\">\n  <thead>\n    <tr style=\"text-align: right;\">\n      <th></th>\n      <th>Country</th>\n      <th>Year</th>\n      <th>Status</th>\n      <th>Life expectancy</th>\n      <th>Adult Mortality</th>\n      <th>infant deaths</th>\n      <th>Alcohol</th>\n      <th>percentage expenditure</th>\n      <th>Hepatitis B</th>\n      <th>Measles</th>\n      <th>...</th>\n      <th>Polio</th>\n      <th>Total expenditure</th>\n      <th>Diphtheria</th>\n      <th>HIV/AIDS</th>\n      <th>GDP</th>\n      <th>Population</th>\n      <th>thinness  1-19 years</th>\n      <th>thinness 5-9 years</th>\n      <th>Income composition of resources</th>\n      <th>Schooling</th>\n    </tr>\n  </thead>\n  <tbody>\n    <tr>\n      <th>0</th>\n      <td>Afghanistan</td>\n      <td>2015</td>\n      <td>Developing</td>\n      <td>65.0</td>\n      <td>263.0</td>\n      <td>62</td>\n      <td>0.01</td>\n      <td>71.279624</td>\n      <td>65.0</td>\n      <td>1154</td>\n      <td>...</td>\n      <td>6.0</td>\n      <td>8.16</td>\n      <td>65.0</td>\n      <td>0.1</td>\n      <td>584.259210</td>\n      <td>33736494.0</td>\n      <td>17.2</td>\n      <td>17.3</td>\n      <td>0.479</td>\n      <td>10.1</td>\n    </tr>\n    <tr>\n      <th>1</th>\n      <td>Afghanistan</td>\n      <td>2014</td>\n      <td>Developing</td>\n      <td>59.9</td>\n      <td>271.0</td>\n      <td>64</td>\n      <td>0.01</td>\n      <td>73.523582</td>\n      <td>62.0</td>\n      <td>492</td>\n      <td>...</td>\n      <td>58.0</td>\n      <td>8.18</td>\n      <td>62.0</td>\n      <td>0.1</td>\n      <td>612.696514</td>\n      <td>327582.0</td>\n      <td>17.5</td>\n      <td>17.5</td>\n      <td>0.476</td>\n      <td>10.0</td>\n    </tr>\n    <tr>\n      <th>2</th>\n      <td>Afghanistan</td>\n      <td>2013</td>\n      <td>Developing</td>\n      <td>59.9</td>\n      <td>268.0</td>\n      <td>66</td>\n      <td>0.01</td>\n      <td>73.219243</td>\n      <td>64.0</td>\n      <td>430</td>\n      <td>...</td>\n      <td>62.0</td>\n      <td>8.13</td>\n      <td>64.0</td>\n      <td>0.1</td>\n      <td>631.744976</td>\n      <td>31731688.0</td>\n      <td>17.7</td>\n      <td>17.7</td>\n      <td>0.470</td>\n      <td>9.9</td>\n    </tr>\n    <tr>\n      <th>3</th>\n      <td>Afghanistan</td>\n      <td>2012</td>\n      <td>Developing</td>\n      <td>59.5</td>\n      <td>272.0</td>\n      <td>69</td>\n      <td>0.01</td>\n      <td>78.184215</td>\n      <td>67.0</td>\n      <td>2787</td>\n      <td>...</td>\n      <td>67.0</td>\n      <td>8.52</td>\n      <td>67.0</td>\n      <td>0.1</td>\n      <td>669.959000</td>\n      <td>3696958.0</td>\n      <td>17.9</td>\n      <td>18.0</td>\n      <td>0.463</td>\n      <td>9.8</td>\n    </tr>\n    <tr>\n      <th>4</th>\n      <td>Afghanistan</td>\n      <td>2011</td>\n      <td>Developing</td>\n      <td>59.2</td>\n      <td>275.0</td>\n      <td>71</td>\n      <td>0.01</td>\n      <td>7.097109</td>\n      <td>68.0</td>\n      <td>3013</td>\n      <td>...</td>\n      <td>68.0</td>\n      <td>7.87</td>\n      <td>68.0</td>\n      <td>0.1</td>\n      <td>63.537231</td>\n      <td>2978599.0</td>\n      <td>18.2</td>\n      <td>18.2</td>\n      <td>0.454</td>\n      <td>9.5</td>\n    </tr>\n    <tr>\n      <th>5</th>\n      <td>Afghanistan</td>\n      <td>2010</td>\n      <td>Developing</td>\n      <td>58.8</td>\n      <td>279.0</td>\n      <td>74</td>\n      <td>0.01</td>\n      <td>79.679367</td>\n      <td>66.0</td>\n      <td>1989</td>\n      <td>...</td>\n      <td>66.0</td>\n      <td>9.20</td>\n      <td>66.0</td>\n      <td>0.1</td>\n      <td>553.328940</td>\n      <td>2883167.0</td>\n      <td>18.4</td>\n      <td>18.4</td>\n      <td>0.448</td>\n      <td>9.2</td>\n    </tr>\n    <tr>\n      <th>6</th>\n      <td>Afghanistan</td>\n      <td>2009</td>\n      <td>Developing</td>\n      <td>58.6</td>\n      <td>281.0</td>\n      <td>77</td>\n      <td>0.01</td>\n      <td>56.762217</td>\n      <td>63.0</td>\n      <td>2861</td>\n      <td>...</td>\n      <td>63.0</td>\n      <td>9.42</td>\n      <td>63.0</td>\n      <td>0.1</td>\n      <td>445.893298</td>\n      <td>284331.0</td>\n      <td>18.6</td>\n      <td>18.7</td>\n      <td>0.434</td>\n      <td>8.9</td>\n    </tr>\n    <tr>\n      <th>7</th>\n      <td>Afghanistan</td>\n      <td>2008</td>\n      <td>Developing</td>\n      <td>58.1</td>\n      <td>287.0</td>\n      <td>80</td>\n      <td>0.03</td>\n      <td>25.873925</td>\n      <td>64.0</td>\n      <td>1599</td>\n      <td>...</td>\n      <td>64.0</td>\n      <td>8.33</td>\n      <td>64.0</td>\n      <td>0.1</td>\n      <td>373.361116</td>\n      <td>2729431.0</td>\n      <td>18.8</td>\n      <td>18.9</td>\n      <td>0.433</td>\n      <td>8.7</td>\n    </tr>\n    <tr>\n      <th>8</th>\n      <td>Afghanistan</td>\n      <td>2007</td>\n      <td>Developing</td>\n      <td>57.5</td>\n      <td>295.0</td>\n      <td>82</td>\n      <td>0.02</td>\n      <td>10.910156</td>\n      <td>63.0</td>\n      <td>1141</td>\n      <td>...</td>\n      <td>63.0</td>\n      <td>6.73</td>\n      <td>63.0</td>\n      <td>0.1</td>\n      <td>369.835796</td>\n      <td>26616792.0</td>\n      <td>19.0</td>\n      <td>19.1</td>\n      <td>0.415</td>\n      <td>8.4</td>\n    </tr>\n    <tr>\n      <th>9</th>\n      <td>Afghanistan</td>\n      <td>2006</td>\n      <td>Developing</td>\n      <td>57.3</td>\n      <td>295.0</td>\n      <td>84</td>\n      <td>0.03</td>\n      <td>17.171518</td>\n      <td>64.0</td>\n      <td>1990</td>\n      <td>...</td>\n      <td>58.0</td>\n      <td>7.43</td>\n      <td>58.0</td>\n      <td>0.1</td>\n      <td>272.563770</td>\n      <td>2589345.0</td>\n      <td>19.2</td>\n      <td>19.3</td>\n      <td>0.405</td>\n      <td>8.1</td>\n    </tr>\n  </tbody>\n</table>\n<p>10 rows × 22 columns</p>\n</div>"
          },
          "metadata": {}
        }
      ],
      "execution_count": 4
    },
    {
      "id": "92be6064-71d6-477f-88d9-9b1ffec9bdcd",
      "cell_type": "code",
      "source": "data.tail(10)\n",
      "metadata": {
        "trusted": true
      },
      "outputs": [
        {
          "execution_count": 3,
          "output_type": "execute_result",
          "data": {
            "text/plain": "       Country  Year      Status  Life expectancy   Adult Mortality  \\\n2928  Zimbabwe  2009  Developing              50.0            587.0   \n2929  Zimbabwe  2008  Developing              48.2            632.0   \n2930  Zimbabwe  2007  Developing              46.6             67.0   \n2931  Zimbabwe  2006  Developing              45.4              7.0   \n2932  Zimbabwe  2005  Developing              44.6            717.0   \n2933  Zimbabwe  2004  Developing              44.3            723.0   \n2934  Zimbabwe  2003  Developing              44.5            715.0   \n2935  Zimbabwe  2002  Developing              44.8             73.0   \n2936  Zimbabwe  2001  Developing              45.3            686.0   \n2937  Zimbabwe  2000  Developing              46.0            665.0   \n\n      infant deaths  Alcohol  percentage expenditure  Hepatitis B  Measles   \\\n2928             30     4.64                1.040021         73.0       853   \n2929             30     3.56               20.843429         75.0         0   \n2930             29     3.88               29.814566         72.0       242   \n2931             28     4.57               34.262169         68.0       212   \n2932             28     4.14                8.717409         65.0       420   \n2933             27     4.36                0.000000         68.0        31   \n2934             26     4.06                0.000000          7.0       998   \n2935             25     4.43                0.000000         73.0       304   \n2936             25     1.72                0.000000         76.0       529   \n2937             24     1.68                0.000000         79.0      1483   \n\n      ...  Polio  Total expenditure  Diphtheria    HIV/AIDS         GDP  \\\n2928  ...   69.0               6.26         73.0       18.1   65.824121   \n2929  ...   75.0               4.96         75.0       20.5  325.678573   \n2930  ...   73.0               4.47         73.0       23.7  396.998217   \n2931  ...   71.0               5.12          7.0       26.8  414.796232   \n2932  ...   69.0               6.44         68.0       30.3  444.765750   \n2933  ...   67.0               7.13         65.0       33.6  454.366654   \n2934  ...    7.0               6.52         68.0       36.7  453.351155   \n2935  ...   73.0               6.53         71.0       39.8   57.348340   \n2936  ...   76.0               6.16         75.0       42.1  548.587312   \n2937  ...   78.0               7.10         78.0       43.5  547.358878   \n\n      Population   thinness  1-19 years   thinness 5-9 years  \\\n2928   1381599.0                    7.5                  7.4   \n2929  13558469.0                    7.8                  7.8   \n2930   1332999.0                    8.2                  8.2   \n2931  13124267.0                    8.6                  8.6   \n2932    129432.0                    9.0                  9.0   \n2933  12777511.0                    9.4                  9.4   \n2934  12633897.0                    9.8                  9.9   \n2935    125525.0                    1.2                  1.3   \n2936  12366165.0                    1.6                  1.7   \n2937  12222251.0                   11.0                 11.2   \n\n      Income composition of resources  Schooling  \n2928                            0.419        9.9  \n2929                            0.421        9.7  \n2930                            0.414        9.6  \n2931                            0.408        9.5  \n2932                            0.406        9.3  \n2933                            0.407        9.2  \n2934                            0.418        9.5  \n2935                            0.427       10.0  \n2936                            0.427        9.8  \n2937                            0.434        9.8  \n\n[10 rows x 22 columns]",
            "text/html": "<div>\n<style scoped>\n    .dataframe tbody tr th:only-of-type {\n        vertical-align: middle;\n    }\n\n    .dataframe tbody tr th {\n        vertical-align: top;\n    }\n\n    .dataframe thead th {\n        text-align: right;\n    }\n</style>\n<table border=\"1\" class=\"dataframe\">\n  <thead>\n    <tr style=\"text-align: right;\">\n      <th></th>\n      <th>Country</th>\n      <th>Year</th>\n      <th>Status</th>\n      <th>Life expectancy</th>\n      <th>Adult Mortality</th>\n      <th>infant deaths</th>\n      <th>Alcohol</th>\n      <th>percentage expenditure</th>\n      <th>Hepatitis B</th>\n      <th>Measles</th>\n      <th>...</th>\n      <th>Polio</th>\n      <th>Total expenditure</th>\n      <th>Diphtheria</th>\n      <th>HIV/AIDS</th>\n      <th>GDP</th>\n      <th>Population</th>\n      <th>thinness  1-19 years</th>\n      <th>thinness 5-9 years</th>\n      <th>Income composition of resources</th>\n      <th>Schooling</th>\n    </tr>\n  </thead>\n  <tbody>\n    <tr>\n      <th>2928</th>\n      <td>Zimbabwe</td>\n      <td>2009</td>\n      <td>Developing</td>\n      <td>50.0</td>\n      <td>587.0</td>\n      <td>30</td>\n      <td>4.64</td>\n      <td>1.040021</td>\n      <td>73.0</td>\n      <td>853</td>\n      <td>...</td>\n      <td>69.0</td>\n      <td>6.26</td>\n      <td>73.0</td>\n      <td>18.1</td>\n      <td>65.824121</td>\n      <td>1381599.0</td>\n      <td>7.5</td>\n      <td>7.4</td>\n      <td>0.419</td>\n      <td>9.9</td>\n    </tr>\n    <tr>\n      <th>2929</th>\n      <td>Zimbabwe</td>\n      <td>2008</td>\n      <td>Developing</td>\n      <td>48.2</td>\n      <td>632.0</td>\n      <td>30</td>\n      <td>3.56</td>\n      <td>20.843429</td>\n      <td>75.0</td>\n      <td>0</td>\n      <td>...</td>\n      <td>75.0</td>\n      <td>4.96</td>\n      <td>75.0</td>\n      <td>20.5</td>\n      <td>325.678573</td>\n      <td>13558469.0</td>\n      <td>7.8</td>\n      <td>7.8</td>\n      <td>0.421</td>\n      <td>9.7</td>\n    </tr>\n    <tr>\n      <th>2930</th>\n      <td>Zimbabwe</td>\n      <td>2007</td>\n      <td>Developing</td>\n      <td>46.6</td>\n      <td>67.0</td>\n      <td>29</td>\n      <td>3.88</td>\n      <td>29.814566</td>\n      <td>72.0</td>\n      <td>242</td>\n      <td>...</td>\n      <td>73.0</td>\n      <td>4.47</td>\n      <td>73.0</td>\n      <td>23.7</td>\n      <td>396.998217</td>\n      <td>1332999.0</td>\n      <td>8.2</td>\n      <td>8.2</td>\n      <td>0.414</td>\n      <td>9.6</td>\n    </tr>\n    <tr>\n      <th>2931</th>\n      <td>Zimbabwe</td>\n      <td>2006</td>\n      <td>Developing</td>\n      <td>45.4</td>\n      <td>7.0</td>\n      <td>28</td>\n      <td>4.57</td>\n      <td>34.262169</td>\n      <td>68.0</td>\n      <td>212</td>\n      <td>...</td>\n      <td>71.0</td>\n      <td>5.12</td>\n      <td>7.0</td>\n      <td>26.8</td>\n      <td>414.796232</td>\n      <td>13124267.0</td>\n      <td>8.6</td>\n      <td>8.6</td>\n      <td>0.408</td>\n      <td>9.5</td>\n    </tr>\n    <tr>\n      <th>2932</th>\n      <td>Zimbabwe</td>\n      <td>2005</td>\n      <td>Developing</td>\n      <td>44.6</td>\n      <td>717.0</td>\n      <td>28</td>\n      <td>4.14</td>\n      <td>8.717409</td>\n      <td>65.0</td>\n      <td>420</td>\n      <td>...</td>\n      <td>69.0</td>\n      <td>6.44</td>\n      <td>68.0</td>\n      <td>30.3</td>\n      <td>444.765750</td>\n      <td>129432.0</td>\n      <td>9.0</td>\n      <td>9.0</td>\n      <td>0.406</td>\n      <td>9.3</td>\n    </tr>\n    <tr>\n      <th>2933</th>\n      <td>Zimbabwe</td>\n      <td>2004</td>\n      <td>Developing</td>\n      <td>44.3</td>\n      <td>723.0</td>\n      <td>27</td>\n      <td>4.36</td>\n      <td>0.000000</td>\n      <td>68.0</td>\n      <td>31</td>\n      <td>...</td>\n      <td>67.0</td>\n      <td>7.13</td>\n      <td>65.0</td>\n      <td>33.6</td>\n      <td>454.366654</td>\n      <td>12777511.0</td>\n      <td>9.4</td>\n      <td>9.4</td>\n      <td>0.407</td>\n      <td>9.2</td>\n    </tr>\n    <tr>\n      <th>2934</th>\n      <td>Zimbabwe</td>\n      <td>2003</td>\n      <td>Developing</td>\n      <td>44.5</td>\n      <td>715.0</td>\n      <td>26</td>\n      <td>4.06</td>\n      <td>0.000000</td>\n      <td>7.0</td>\n      <td>998</td>\n      <td>...</td>\n      <td>7.0</td>\n      <td>6.52</td>\n      <td>68.0</td>\n      <td>36.7</td>\n      <td>453.351155</td>\n      <td>12633897.0</td>\n      <td>9.8</td>\n      <td>9.9</td>\n      <td>0.418</td>\n      <td>9.5</td>\n    </tr>\n    <tr>\n      <th>2935</th>\n      <td>Zimbabwe</td>\n      <td>2002</td>\n      <td>Developing</td>\n      <td>44.8</td>\n      <td>73.0</td>\n      <td>25</td>\n      <td>4.43</td>\n      <td>0.000000</td>\n      <td>73.0</td>\n      <td>304</td>\n      <td>...</td>\n      <td>73.0</td>\n      <td>6.53</td>\n      <td>71.0</td>\n      <td>39.8</td>\n      <td>57.348340</td>\n      <td>125525.0</td>\n      <td>1.2</td>\n      <td>1.3</td>\n      <td>0.427</td>\n      <td>10.0</td>\n    </tr>\n    <tr>\n      <th>2936</th>\n      <td>Zimbabwe</td>\n      <td>2001</td>\n      <td>Developing</td>\n      <td>45.3</td>\n      <td>686.0</td>\n      <td>25</td>\n      <td>1.72</td>\n      <td>0.000000</td>\n      <td>76.0</td>\n      <td>529</td>\n      <td>...</td>\n      <td>76.0</td>\n      <td>6.16</td>\n      <td>75.0</td>\n      <td>42.1</td>\n      <td>548.587312</td>\n      <td>12366165.0</td>\n      <td>1.6</td>\n      <td>1.7</td>\n      <td>0.427</td>\n      <td>9.8</td>\n    </tr>\n    <tr>\n      <th>2937</th>\n      <td>Zimbabwe</td>\n      <td>2000</td>\n      <td>Developing</td>\n      <td>46.0</td>\n      <td>665.0</td>\n      <td>24</td>\n      <td>1.68</td>\n      <td>0.000000</td>\n      <td>79.0</td>\n      <td>1483</td>\n      <td>...</td>\n      <td>78.0</td>\n      <td>7.10</td>\n      <td>78.0</td>\n      <td>43.5</td>\n      <td>547.358878</td>\n      <td>12222251.0</td>\n      <td>11.0</td>\n      <td>11.2</td>\n      <td>0.434</td>\n      <td>9.8</td>\n    </tr>\n  </tbody>\n</table>\n<p>10 rows × 22 columns</p>\n</div>"
          },
          "metadata": {}
        }
      ],
      "execution_count": 3
    },
    {
      "id": "5951400b-eb35-42d6-bcfc-65a717593671",
      "cell_type": "code",
      "source": "data.shape",
      "metadata": {
        "trusted": true
      },
      "outputs": [
        {
          "execution_count": 4,
          "output_type": "execute_result",
          "data": {
            "text/plain": "(2938, 22)"
          },
          "metadata": {}
        }
      ],
      "execution_count": 4
    },
    {
      "id": "8d431c64-cde1-4bea-8c73-4b16546ab19f",
      "cell_type": "code",
      "source": "data.info()",
      "metadata": {
        "trusted": true
      },
      "outputs": [
        {
          "name": "stdout",
          "output_type": "stream",
          "text": "<class 'pandas.core.frame.DataFrame'>\nRangeIndex: 2938 entries, 0 to 2937\nData columns (total 22 columns):\n #   Column                           Non-Null Count  Dtype  \n---  ------                           --------------  -----  \n 0   Country                          2938 non-null   object \n 1   Year                             2938 non-null   int64  \n 2   Status                           2938 non-null   object \n 3   Life expectancy                  2928 non-null   float64\n 4   Adult Mortality                  2928 non-null   float64\n 5   infant deaths                    2938 non-null   int64  \n 6   Alcohol                          2744 non-null   float64\n 7   percentage expenditure           2938 non-null   float64\n 8   Hepatitis B                      2385 non-null   float64\n 9   Measles                          2938 non-null   int64  \n 10   BMI                             2904 non-null   float64\n 11  under-five deaths                2938 non-null   int64  \n 12  Polio                            2919 non-null   float64\n 13  Total expenditure                2712 non-null   float64\n 14  Diphtheria                       2919 non-null   float64\n 15   HIV/AIDS                        2938 non-null   float64\n 16  GDP                              2490 non-null   float64\n 17  Population                       2286 non-null   float64\n 18   thinness  1-19 years            2904 non-null   float64\n 19   thinness 5-9 years              2904 non-null   float64\n 20  Income composition of resources  2771 non-null   float64\n 21  Schooling                        2775 non-null   float64\ndtypes: float64(16), int64(4), object(2)\nmemory usage: 482.1+ KB\n"
        }
      ],
      "execution_count": 5
    },
    {
      "id": "646f91ae-b300-4546-93e2-d35649268ac6",
      "cell_type": "code",
      "source": "data.describe()",
      "metadata": {
        "trusted": true
      },
      "outputs": [
        {
          "execution_count": 7,
          "output_type": "execute_result",
          "data": {
            "text/plain": "              Year  Life expectancy   Adult Mortality  infant deaths  \\\ncount  2938.000000       2928.000000      2928.000000    2938.000000   \nmean   2007.518720         69.224932       164.796448      30.303948   \nstd       4.613841          9.523867       124.292079     117.926501   \nmin    2000.000000         36.300000         1.000000       0.000000   \n25%    2004.000000         63.100000        74.000000       0.000000   \n50%    2008.000000         72.100000       144.000000       3.000000   \n75%    2012.000000         75.700000       228.000000      22.000000   \nmax    2015.000000         89.000000       723.000000    1800.000000   \n\n           Alcohol  percentage expenditure  Hepatitis B       Measles   \\\ncount  2744.000000             2938.000000  2385.000000    2938.000000   \nmean      4.602861              738.251295    80.940461    2419.592240   \nstd       4.052413             1987.914858    25.070016   11467.272489   \nmin       0.010000                0.000000     1.000000       0.000000   \n25%       0.877500                4.685343    77.000000       0.000000   \n50%       3.755000               64.912906    92.000000      17.000000   \n75%       7.702500              441.534144    97.000000     360.250000   \nmax      17.870000            19479.911610    99.000000  212183.000000   \n\n              BMI   under-five deaths         Polio  Total expenditure  \\\ncount  2904.000000         2938.000000  2919.000000         2712.00000   \nmean     38.321247           42.035739    82.550188            5.93819   \nstd      20.044034          160.445548    23.428046            2.49832   \nmin       1.000000            0.000000     3.000000            0.37000   \n25%      19.300000            0.000000    78.000000            4.26000   \n50%      43.500000            4.000000    93.000000            5.75500   \n75%      56.200000           28.000000    97.000000            7.49250   \nmax      87.300000         2500.000000    99.000000           17.60000   \n\n       Diphtheria      HIV/AIDS            GDP    Population  \\\ncount  2919.000000  2938.000000    2490.000000  2.286000e+03   \nmean     82.324084     1.742103    7483.158469  1.275338e+07   \nstd      23.716912     5.077785   14270.169342  6.101210e+07   \nmin       2.000000     0.100000       1.681350  3.400000e+01   \n25%      78.000000     0.100000     463.935626  1.957932e+05   \n50%      93.000000     0.100000    1766.947595  1.386542e+06   \n75%      97.000000     0.800000    5910.806335  7.420359e+06   \nmax      99.000000    50.600000  119172.741800  1.293859e+09   \n\n        thinness  1-19 years   thinness 5-9 years  \\\ncount            2904.000000          2904.000000   \nmean                4.839704             4.870317   \nstd                 4.420195             4.508882   \nmin                 0.100000             0.100000   \n25%                 1.600000             1.500000   \n50%                 3.300000             3.300000   \n75%                 7.200000             7.200000   \nmax                27.700000            28.600000   \n\n       Income composition of resources    Schooling  \ncount                      2771.000000  2775.000000  \nmean                          0.627551    11.992793  \nstd                           0.210904     3.358920  \nmin                           0.000000     0.000000  \n25%                           0.493000    10.100000  \n50%                           0.677000    12.300000  \n75%                           0.779000    14.300000  \nmax                           0.948000    20.700000  ",
            "text/html": "<div>\n<style scoped>\n    .dataframe tbody tr th:only-of-type {\n        vertical-align: middle;\n    }\n\n    .dataframe tbody tr th {\n        vertical-align: top;\n    }\n\n    .dataframe thead th {\n        text-align: right;\n    }\n</style>\n<table border=\"1\" class=\"dataframe\">\n  <thead>\n    <tr style=\"text-align: right;\">\n      <th></th>\n      <th>Year</th>\n      <th>Life expectancy</th>\n      <th>Adult Mortality</th>\n      <th>infant deaths</th>\n      <th>Alcohol</th>\n      <th>percentage expenditure</th>\n      <th>Hepatitis B</th>\n      <th>Measles</th>\n      <th>BMI</th>\n      <th>under-five deaths</th>\n      <th>Polio</th>\n      <th>Total expenditure</th>\n      <th>Diphtheria</th>\n      <th>HIV/AIDS</th>\n      <th>GDP</th>\n      <th>Population</th>\n      <th>thinness  1-19 years</th>\n      <th>thinness 5-9 years</th>\n      <th>Income composition of resources</th>\n      <th>Schooling</th>\n    </tr>\n  </thead>\n  <tbody>\n    <tr>\n      <th>count</th>\n      <td>2938.000000</td>\n      <td>2928.000000</td>\n      <td>2928.000000</td>\n      <td>2938.000000</td>\n      <td>2744.000000</td>\n      <td>2938.000000</td>\n      <td>2385.000000</td>\n      <td>2938.000000</td>\n      <td>2904.000000</td>\n      <td>2938.000000</td>\n      <td>2919.000000</td>\n      <td>2712.00000</td>\n      <td>2919.000000</td>\n      <td>2938.000000</td>\n      <td>2490.000000</td>\n      <td>2.286000e+03</td>\n      <td>2904.000000</td>\n      <td>2904.000000</td>\n      <td>2771.000000</td>\n      <td>2775.000000</td>\n    </tr>\n    <tr>\n      <th>mean</th>\n      <td>2007.518720</td>\n      <td>69.224932</td>\n      <td>164.796448</td>\n      <td>30.303948</td>\n      <td>4.602861</td>\n      <td>738.251295</td>\n      <td>80.940461</td>\n      <td>2419.592240</td>\n      <td>38.321247</td>\n      <td>42.035739</td>\n      <td>82.550188</td>\n      <td>5.93819</td>\n      <td>82.324084</td>\n      <td>1.742103</td>\n      <td>7483.158469</td>\n      <td>1.275338e+07</td>\n      <td>4.839704</td>\n      <td>4.870317</td>\n      <td>0.627551</td>\n      <td>11.992793</td>\n    </tr>\n    <tr>\n      <th>std</th>\n      <td>4.613841</td>\n      <td>9.523867</td>\n      <td>124.292079</td>\n      <td>117.926501</td>\n      <td>4.052413</td>\n      <td>1987.914858</td>\n      <td>25.070016</td>\n      <td>11467.272489</td>\n      <td>20.044034</td>\n      <td>160.445548</td>\n      <td>23.428046</td>\n      <td>2.49832</td>\n      <td>23.716912</td>\n      <td>5.077785</td>\n      <td>14270.169342</td>\n      <td>6.101210e+07</td>\n      <td>4.420195</td>\n      <td>4.508882</td>\n      <td>0.210904</td>\n      <td>3.358920</td>\n    </tr>\n    <tr>\n      <th>min</th>\n      <td>2000.000000</td>\n      <td>36.300000</td>\n      <td>1.000000</td>\n      <td>0.000000</td>\n      <td>0.010000</td>\n      <td>0.000000</td>\n      <td>1.000000</td>\n      <td>0.000000</td>\n      <td>1.000000</td>\n      <td>0.000000</td>\n      <td>3.000000</td>\n      <td>0.37000</td>\n      <td>2.000000</td>\n      <td>0.100000</td>\n      <td>1.681350</td>\n      <td>3.400000e+01</td>\n      <td>0.100000</td>\n      <td>0.100000</td>\n      <td>0.000000</td>\n      <td>0.000000</td>\n    </tr>\n    <tr>\n      <th>25%</th>\n      <td>2004.000000</td>\n      <td>63.100000</td>\n      <td>74.000000</td>\n      <td>0.000000</td>\n      <td>0.877500</td>\n      <td>4.685343</td>\n      <td>77.000000</td>\n      <td>0.000000</td>\n      <td>19.300000</td>\n      <td>0.000000</td>\n      <td>78.000000</td>\n      <td>4.26000</td>\n      <td>78.000000</td>\n      <td>0.100000</td>\n      <td>463.935626</td>\n      <td>1.957932e+05</td>\n      <td>1.600000</td>\n      <td>1.500000</td>\n      <td>0.493000</td>\n      <td>10.100000</td>\n    </tr>\n    <tr>\n      <th>50%</th>\n      <td>2008.000000</td>\n      <td>72.100000</td>\n      <td>144.000000</td>\n      <td>3.000000</td>\n      <td>3.755000</td>\n      <td>64.912906</td>\n      <td>92.000000</td>\n      <td>17.000000</td>\n      <td>43.500000</td>\n      <td>4.000000</td>\n      <td>93.000000</td>\n      <td>5.75500</td>\n      <td>93.000000</td>\n      <td>0.100000</td>\n      <td>1766.947595</td>\n      <td>1.386542e+06</td>\n      <td>3.300000</td>\n      <td>3.300000</td>\n      <td>0.677000</td>\n      <td>12.300000</td>\n    </tr>\n    <tr>\n      <th>75%</th>\n      <td>2012.000000</td>\n      <td>75.700000</td>\n      <td>228.000000</td>\n      <td>22.000000</td>\n      <td>7.702500</td>\n      <td>441.534144</td>\n      <td>97.000000</td>\n      <td>360.250000</td>\n      <td>56.200000</td>\n      <td>28.000000</td>\n      <td>97.000000</td>\n      <td>7.49250</td>\n      <td>97.000000</td>\n      <td>0.800000</td>\n      <td>5910.806335</td>\n      <td>7.420359e+06</td>\n      <td>7.200000</td>\n      <td>7.200000</td>\n      <td>0.779000</td>\n      <td>14.300000</td>\n    </tr>\n    <tr>\n      <th>max</th>\n      <td>2015.000000</td>\n      <td>89.000000</td>\n      <td>723.000000</td>\n      <td>1800.000000</td>\n      <td>17.870000</td>\n      <td>19479.911610</td>\n      <td>99.000000</td>\n      <td>212183.000000</td>\n      <td>87.300000</td>\n      <td>2500.000000</td>\n      <td>99.000000</td>\n      <td>17.60000</td>\n      <td>99.000000</td>\n      <td>50.600000</td>\n      <td>119172.741800</td>\n      <td>1.293859e+09</td>\n      <td>27.700000</td>\n      <td>28.600000</td>\n      <td>0.948000</td>\n      <td>20.700000</td>\n    </tr>\n  </tbody>\n</table>\n</div>"
          },
          "metadata": {}
        }
      ],
      "execution_count": 7
    },
    {
      "id": "a1f90dcb-aece-4dcc-b9c8-f59c77dfd543",
      "cell_type": "code",
      "source": "data.isnull()",
      "metadata": {
        "trusted": true
      },
      "outputs": [
        {
          "execution_count": 8,
          "output_type": "execute_result",
          "data": {
            "text/plain": "      Country   Year  Status  Life expectancy   Adult Mortality  \\\n0       False  False   False             False            False   \n1       False  False   False             False            False   \n2       False  False   False             False            False   \n3       False  False   False             False            False   \n4       False  False   False             False            False   \n...       ...    ...     ...               ...              ...   \n2933    False  False   False             False            False   \n2934    False  False   False             False            False   \n2935    False  False   False             False            False   \n2936    False  False   False             False            False   \n2937    False  False   False             False            False   \n\n      infant deaths  Alcohol  percentage expenditure  Hepatitis B  Measles   \\\n0             False    False                   False        False     False   \n1             False    False                   False        False     False   \n2             False    False                   False        False     False   \n3             False    False                   False        False     False   \n4             False    False                   False        False     False   \n...             ...      ...                     ...          ...       ...   \n2933          False    False                   False        False     False   \n2934          False    False                   False        False     False   \n2935          False    False                   False        False     False   \n2936          False    False                   False        False     False   \n2937          False    False                   False        False     False   \n\n      ...  Polio  Total expenditure  Diphtheria    HIV/AIDS    GDP  \\\n0     ...  False              False        False      False  False   \n1     ...  False              False        False      False  False   \n2     ...  False              False        False      False  False   \n3     ...  False              False        False      False  False   \n4     ...  False              False        False      False  False   \n...   ...    ...                ...          ...        ...    ...   \n2933  ...  False              False        False      False  False   \n2934  ...  False              False        False      False  False   \n2935  ...  False              False        False      False  False   \n2936  ...  False              False        False      False  False   \n2937  ...  False              False        False      False  False   \n\n      Population   thinness  1-19 years   thinness 5-9 years  \\\n0          False                  False                False   \n1          False                  False                False   \n2          False                  False                False   \n3          False                  False                False   \n4          False                  False                False   \n...          ...                    ...                  ...   \n2933       False                  False                False   \n2934       False                  False                False   \n2935       False                  False                False   \n2936       False                  False                False   \n2937       False                  False                False   \n\n      Income composition of resources  Schooling  \n0                               False      False  \n1                               False      False  \n2                               False      False  \n3                               False      False  \n4                               False      False  \n...                               ...        ...  \n2933                            False      False  \n2934                            False      False  \n2935                            False      False  \n2936                            False      False  \n2937                            False      False  \n\n[2938 rows x 22 columns]",
            "text/html": "<div>\n<style scoped>\n    .dataframe tbody tr th:only-of-type {\n        vertical-align: middle;\n    }\n\n    .dataframe tbody tr th {\n        vertical-align: top;\n    }\n\n    .dataframe thead th {\n        text-align: right;\n    }\n</style>\n<table border=\"1\" class=\"dataframe\">\n  <thead>\n    <tr style=\"text-align: right;\">\n      <th></th>\n      <th>Country</th>\n      <th>Year</th>\n      <th>Status</th>\n      <th>Life expectancy</th>\n      <th>Adult Mortality</th>\n      <th>infant deaths</th>\n      <th>Alcohol</th>\n      <th>percentage expenditure</th>\n      <th>Hepatitis B</th>\n      <th>Measles</th>\n      <th>...</th>\n      <th>Polio</th>\n      <th>Total expenditure</th>\n      <th>Diphtheria</th>\n      <th>HIV/AIDS</th>\n      <th>GDP</th>\n      <th>Population</th>\n      <th>thinness  1-19 years</th>\n      <th>thinness 5-9 years</th>\n      <th>Income composition of resources</th>\n      <th>Schooling</th>\n    </tr>\n  </thead>\n  <tbody>\n    <tr>\n      <th>0</th>\n      <td>False</td>\n      <td>False</td>\n      <td>False</td>\n      <td>False</td>\n      <td>False</td>\n      <td>False</td>\n      <td>False</td>\n      <td>False</td>\n      <td>False</td>\n      <td>False</td>\n      <td>...</td>\n      <td>False</td>\n      <td>False</td>\n      <td>False</td>\n      <td>False</td>\n      <td>False</td>\n      <td>False</td>\n      <td>False</td>\n      <td>False</td>\n      <td>False</td>\n      <td>False</td>\n    </tr>\n    <tr>\n      <th>1</th>\n      <td>False</td>\n      <td>False</td>\n      <td>False</td>\n      <td>False</td>\n      <td>False</td>\n      <td>False</td>\n      <td>False</td>\n      <td>False</td>\n      <td>False</td>\n      <td>False</td>\n      <td>...</td>\n      <td>False</td>\n      <td>False</td>\n      <td>False</td>\n      <td>False</td>\n      <td>False</td>\n      <td>False</td>\n      <td>False</td>\n      <td>False</td>\n      <td>False</td>\n      <td>False</td>\n    </tr>\n    <tr>\n      <th>2</th>\n      <td>False</td>\n      <td>False</td>\n      <td>False</td>\n      <td>False</td>\n      <td>False</td>\n      <td>False</td>\n      <td>False</td>\n      <td>False</td>\n      <td>False</td>\n      <td>False</td>\n      <td>...</td>\n      <td>False</td>\n      <td>False</td>\n      <td>False</td>\n      <td>False</td>\n      <td>False</td>\n      <td>False</td>\n      <td>False</td>\n      <td>False</td>\n      <td>False</td>\n      <td>False</td>\n    </tr>\n    <tr>\n      <th>3</th>\n      <td>False</td>\n      <td>False</td>\n      <td>False</td>\n      <td>False</td>\n      <td>False</td>\n      <td>False</td>\n      <td>False</td>\n      <td>False</td>\n      <td>False</td>\n      <td>False</td>\n      <td>...</td>\n      <td>False</td>\n      <td>False</td>\n      <td>False</td>\n      <td>False</td>\n      <td>False</td>\n      <td>False</td>\n      <td>False</td>\n      <td>False</td>\n      <td>False</td>\n      <td>False</td>\n    </tr>\n    <tr>\n      <th>4</th>\n      <td>False</td>\n      <td>False</td>\n      <td>False</td>\n      <td>False</td>\n      <td>False</td>\n      <td>False</td>\n      <td>False</td>\n      <td>False</td>\n      <td>False</td>\n      <td>False</td>\n      <td>...</td>\n      <td>False</td>\n      <td>False</td>\n      <td>False</td>\n      <td>False</td>\n      <td>False</td>\n      <td>False</td>\n      <td>False</td>\n      <td>False</td>\n      <td>False</td>\n      <td>False</td>\n    </tr>\n    <tr>\n      <th>...</th>\n      <td>...</td>\n      <td>...</td>\n      <td>...</td>\n      <td>...</td>\n      <td>...</td>\n      <td>...</td>\n      <td>...</td>\n      <td>...</td>\n      <td>...</td>\n      <td>...</td>\n      <td>...</td>\n      <td>...</td>\n      <td>...</td>\n      <td>...</td>\n      <td>...</td>\n      <td>...</td>\n      <td>...</td>\n      <td>...</td>\n      <td>...</td>\n      <td>...</td>\n      <td>...</td>\n    </tr>\n    <tr>\n      <th>2933</th>\n      <td>False</td>\n      <td>False</td>\n      <td>False</td>\n      <td>False</td>\n      <td>False</td>\n      <td>False</td>\n      <td>False</td>\n      <td>False</td>\n      <td>False</td>\n      <td>False</td>\n      <td>...</td>\n      <td>False</td>\n      <td>False</td>\n      <td>False</td>\n      <td>False</td>\n      <td>False</td>\n      <td>False</td>\n      <td>False</td>\n      <td>False</td>\n      <td>False</td>\n      <td>False</td>\n    </tr>\n    <tr>\n      <th>2934</th>\n      <td>False</td>\n      <td>False</td>\n      <td>False</td>\n      <td>False</td>\n      <td>False</td>\n      <td>False</td>\n      <td>False</td>\n      <td>False</td>\n      <td>False</td>\n      <td>False</td>\n      <td>...</td>\n      <td>False</td>\n      <td>False</td>\n      <td>False</td>\n      <td>False</td>\n      <td>False</td>\n      <td>False</td>\n      <td>False</td>\n      <td>False</td>\n      <td>False</td>\n      <td>False</td>\n    </tr>\n    <tr>\n      <th>2935</th>\n      <td>False</td>\n      <td>False</td>\n      <td>False</td>\n      <td>False</td>\n      <td>False</td>\n      <td>False</td>\n      <td>False</td>\n      <td>False</td>\n      <td>False</td>\n      <td>False</td>\n      <td>...</td>\n      <td>False</td>\n      <td>False</td>\n      <td>False</td>\n      <td>False</td>\n      <td>False</td>\n      <td>False</td>\n      <td>False</td>\n      <td>False</td>\n      <td>False</td>\n      <td>False</td>\n    </tr>\n    <tr>\n      <th>2936</th>\n      <td>False</td>\n      <td>False</td>\n      <td>False</td>\n      <td>False</td>\n      <td>False</td>\n      <td>False</td>\n      <td>False</td>\n      <td>False</td>\n      <td>False</td>\n      <td>False</td>\n      <td>...</td>\n      <td>False</td>\n      <td>False</td>\n      <td>False</td>\n      <td>False</td>\n      <td>False</td>\n      <td>False</td>\n      <td>False</td>\n      <td>False</td>\n      <td>False</td>\n      <td>False</td>\n    </tr>\n    <tr>\n      <th>2937</th>\n      <td>False</td>\n      <td>False</td>\n      <td>False</td>\n      <td>False</td>\n      <td>False</td>\n      <td>False</td>\n      <td>False</td>\n      <td>False</td>\n      <td>False</td>\n      <td>False</td>\n      <td>...</td>\n      <td>False</td>\n      <td>False</td>\n      <td>False</td>\n      <td>False</td>\n      <td>False</td>\n      <td>False</td>\n      <td>False</td>\n      <td>False</td>\n      <td>False</td>\n      <td>False</td>\n    </tr>\n  </tbody>\n</table>\n<p>2938 rows × 22 columns</p>\n</div>"
          },
          "metadata": {}
        }
      ],
      "execution_count": 8
    },
    {
      "id": "9d03b258-cc25-46a9-b48f-9658d7ed3c94",
      "cell_type": "code",
      "source": " data.mean(numeric_only=True)",
      "metadata": {
        "trusted": true
      },
      "outputs": [
        {
          "execution_count": 10,
          "output_type": "execute_result",
          "data": {
            "text/plain": "Year                               2.007519e+03\nLife expectancy                    6.922493e+01\nAdult Mortality                    1.647964e+02\ninfant deaths                      3.030395e+01\nAlcohol                            4.602861e+00\npercentage expenditure             7.382513e+02\nHepatitis B                        8.094046e+01\nMeasles                            2.419592e+03\n BMI                               3.832125e+01\nunder-five deaths                  4.203574e+01\nPolio                              8.255019e+01\nTotal expenditure                  5.938190e+00\nDiphtheria                         8.232408e+01\n HIV/AIDS                          1.742103e+00\nGDP                                7.483158e+03\nPopulation                         1.275338e+07\n thinness  1-19 years              4.839704e+00\n thinness 5-9 years                4.870317e+00\nIncome composition of resources    6.275511e-01\nSchooling                          1.199279e+01\ndtype: float64"
          },
          "metadata": {}
        }
      ],
      "execution_count": 10
    },
    {
      "id": "7c6f0176-2057-4ee0-9f3f-afc803215447",
      "cell_type": "code",
      "source": "data.median(numeric_only=True)",
      "metadata": {
        "trusted": true
      },
      "outputs": [
        {
          "execution_count": 11,
          "output_type": "execute_result",
          "data": {
            "text/plain": "Year                               2.008000e+03\nLife expectancy                    7.210000e+01\nAdult Mortality                    1.440000e+02\ninfant deaths                      3.000000e+00\nAlcohol                            3.755000e+00\npercentage expenditure             6.491291e+01\nHepatitis B                        9.200000e+01\nMeasles                            1.700000e+01\n BMI                               4.350000e+01\nunder-five deaths                  4.000000e+00\nPolio                              9.300000e+01\nTotal expenditure                  5.755000e+00\nDiphtheria                         9.300000e+01\n HIV/AIDS                          1.000000e-01\nGDP                                1.766948e+03\nPopulation                         1.386542e+06\n thinness  1-19 years              3.300000e+00\n thinness 5-9 years                3.300000e+00\nIncome composition of resources    6.770000e-01\nSchooling                          1.230000e+01\ndtype: float64"
          },
          "metadata": {}
        }
      ],
      "execution_count": 11
    },
    {
      "id": "fb04c977-2494-4468-b495-8f4e93fe8774",
      "cell_type": "code",
      "source": "data.mode().iloc[0]",
      "metadata": {
        "trusted": true
      },
      "outputs": [
        {
          "execution_count": 15,
          "output_type": "execute_result",
          "data": {
            "text/plain": "Country                            Afghanistan\nYear                                    2013.0\nStatus                              Developing\nLife expectancy                           73.0\nAdult Mortality                           12.0\ninfant deaths                              0.0\nAlcohol                                   0.01\npercentage expenditure                     0.0\nHepatitis B                               99.0\nMeasles                                    0.0\n BMI                                      58.5\nunder-five deaths                          0.0\nPolio                                     99.0\nTotal expenditure                          4.6\nDiphtheria                                99.0\n HIV/AIDS                                  0.1\nGDP                                    1.68135\nPopulation                               444.0\n thinness  1-19 years                      1.0\n thinness 5-9 years                        0.9\nIncome composition of resources            0.0\nSchooling                                 12.9\nName: 0, dtype: object"
          },
          "metadata": {}
        }
      ],
      "execution_count": 15
    },
    {
      "id": "ebb295c0-74a8-4f8e-924f-7a341936b844",
      "cell_type": "code",
      "source": "data['Country'].value_counts()",
      "metadata": {
        "trusted": true
      },
      "outputs": [
        {
          "execution_count": 28,
          "output_type": "execute_result",
          "data": {
            "text/plain": "Country\nAfghanistan              16\nPeru                     16\nNicaragua                16\nNiger                    16\nNigeria                  16\n                         ..\nNiue                      1\nSan Marino                1\nNauru                     1\nSaint Kitts and Nevis     1\nDominica                  1\nName: count, Length: 193, dtype: int64"
          },
          "metadata": {}
        }
      ],
      "execution_count": 28
    },
    {
      "id": "f82ff477-b653-4dab-b213-aee8b2902fe1",
      "cell_type": "code",
      "source": "avg_life=data.groupby('Country')['Life expectancy ' ].mean().sort_values(ascending=False)\nprint(avg_life.head(10))",
      "metadata": {
        "trusted": true
      },
      "outputs": [
        {
          "name": "stdout",
          "output_type": "stream",
          "text": "Country\nJapan          82.53750\nSweden         82.51875\nIceland        82.44375\nSwitzerland    82.33125\nFrance         82.21875\nItaly          82.18750\nSpain          82.06875\nAustralia      81.81250\nNorway         81.79375\nCanada         81.68750\nName: Life expectancy , dtype: float64\n"
        }
      ],
      "execution_count": 16
    },
    {
      "id": "91ddf755-e4bd-4280-95a5-e250a533abe6",
      "cell_type": "code",
      "source": "avg_life_status=data.groupby('Status')['Life expectancy '].mean().sort_values(ascending=False)\nprint(avg_life_status.head(10))",
      "metadata": {
        "trusted": true
      },
      "outputs": [
        {
          "name": "stdout",
          "output_type": "stream",
          "text": "Status\nDeveloped     79.197852\nDeveloping    67.111465\nName: Life expectancy , dtype: float64\n"
        }
      ],
      "execution_count": 19
    },
    {
      "id": "466d9ef2-9aaf-4e3e-84a4-6a9a86ccf2df",
      "cell_type": "code",
      "source": "data.corr(numeric_only=True)['Life expectancy '].sort_values(ascending=True)",
      "metadata": {
        "trusted": true
      },
      "outputs": [
        {
          "execution_count": 20,
          "output_type": "execute_result",
          "data": {
            "text/plain": "Adult Mortality                   -0.696359\n HIV/AIDS                         -0.556556\n thinness  1-19 years             -0.477183\n thinness 5-9 years               -0.471584\nunder-five deaths                 -0.222529\ninfant deaths                     -0.196557\nMeasles                           -0.157586\nPopulation                        -0.021538\nYear                               0.170033\nTotal expenditure                  0.218086\nHepatitis B                        0.256762\npercentage expenditure             0.381864\nAlcohol                            0.404877\nGDP                                0.461455\nPolio                              0.465556\nDiphtheria                         0.479495\n BMI                               0.567694\nIncome composition of resources    0.724776\nSchooling                          0.751975\nLife expectancy                    1.000000\nName: Life expectancy , dtype: float64"
          },
          "metadata": {}
        }
      ],
      "execution_count": 20
    },
    {
      "id": "3bc2dcd0-65f1-41c3-99c2-1496afd85071",
      "cell_type": "code",
      "source": "",
      "metadata": {
        "trusted": true
      },
      "outputs": [],
      "execution_count": null
    }
  ]
}